{
 "cells": [
  {
   "cell_type": "code",
   "execution_count": 1,
   "id": "7468d0e2",
   "metadata": {},
   "outputs": [],
   "source": [
    "import numpy as np\n",
    "from "
   ]
  },
  {
   "cell_type": "code",
   "execution_count": 2,
   "id": "1e4fafe8",
   "metadata": {},
   "outputs": [
    {
     "ename": "NameError",
     "evalue": "name 'load' is not defined",
     "output_type": "error",
     "traceback": [
      "\u001b[1;31m---------------------------------------------------------------------------\u001b[0m",
      "\u001b[1;31mNameError\u001b[0m                                 Traceback (most recent call last)",
      "Input \u001b[1;32mIn [2]\u001b[0m, in \u001b[0;36m<cell line: 1>\u001b[1;34m()\u001b[0m\n\u001b[1;32m----> 1\u001b[0m model\u001b[38;5;241m=\u001b[39m\u001b[43mload\u001b[49m(\u001b[38;5;124m\"\u001b[39m\u001b[38;5;124mwater_quality.joblib\u001b[39m\u001b[38;5;124m\"\u001b[39m)\n",
      "\u001b[1;31mNameError\u001b[0m: name 'load' is not defined"
     ]
    }
   ],
   "source": [
    "model=load(\"water_quality.joblib\")"
   ]
  },
  {
   "cell_type": "code",
   "execution_count": null,
   "id": "faa41d00",
   "metadata": {},
   "outputs": [],
   "source": [
    "input=np.array([[6.000e-02, 1.011e+01, 4.000e-02, 5.000e-01, 0.000e+00, 0.000e+00,\n",
    "       5.000e-02, 1.550e+00, 1.090e+00, 0.000e+00, 7.200e-01, 1.370e-01,\n",
    "       1.466e+01, 6.400e-01, 1.000e-03, 2.000e-02, 1.520e+00, 9.000e-02,\n",
    "       6.000e-02, 3.000e-02]])"
   ]
  }
 ],
 "metadata": {
  "kernelspec": {
   "display_name": "Python 3 (ipykernel)",
   "language": "python",
   "name": "python3"
  },
  "language_info": {
   "codemirror_mode": {
    "name": "ipython",
    "version": 3
   },
   "file_extension": ".py",
   "mimetype": "text/x-python",
   "name": "python",
   "nbconvert_exporter": "python",
   "pygments_lexer": "ipython3",
   "version": "3.9.12"
  }
 },
 "nbformat": 4,
 "nbformat_minor": 5
}
