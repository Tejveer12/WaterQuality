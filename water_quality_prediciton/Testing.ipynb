{
 "cells": [
  {
   "cell_type": "code",
   "execution_count": 1,
   "id": "afa3bdd9",
   "metadata": {},
   "outputs": [],
   "source": [
    "%store -r my_pipeline"
   ]
  },
  {
   "cell_type": "code",
   "execution_count": 2,
   "id": "445b80aa",
   "metadata": {},
   "outputs": [],
   "source": [
    "%store -r test_set"
   ]
  },
  {
   "cell_type": "code",
   "execution_count": 3,
   "id": "6d7abe2a",
   "metadata": {},
   "outputs": [],
   "source": [
    "from joblib import load\n",
    "from sklearn.metrics import accuracy_score"
   ]
  },
  {
   "cell_type": "code",
   "execution_count": 4,
   "id": "510ba75d",
   "metadata": {},
   "outputs": [],
   "source": [
    "model=load(\"water_quality.joblib\")"
   ]
  },
  {
   "cell_type": "code",
   "execution_count": 5,
   "id": "ba5b7b0c",
   "metadata": {},
   "outputs": [],
   "source": [
    "test_features=test_set.drop(\"is_safe\",axis=1).copy()"
   ]
  },
  {
   "cell_type": "code",
   "execution_count": 6,
   "id": "3732570b",
   "metadata": {},
   "outputs": [],
   "source": [
    "test_labels=test_set[\"is_safe\"].copy()"
   ]
  },
  {
   "cell_type": "code",
   "execution_count": 7,
   "id": "7ca14150",
   "metadata": {},
   "outputs": [],
   "source": [
    "test_features=my_pipeline.fit_transform(test_features)"
   ]
  },
  {
   "cell_type": "code",
   "execution_count": 8,
   "id": "0aa9846a",
   "metadata": {},
   "outputs": [],
   "source": [
    "model_predicted=model.predict(test_features)"
   ]
  },
  {
   "cell_type": "code",
   "execution_count": 9,
   "id": "279d708e",
   "metadata": {},
   "outputs": [
    {
     "data": {
      "text/plain": [
       "0.95625"
      ]
     },
     "execution_count": 9,
     "metadata": {},
     "output_type": "execute_result"
    }
   ],
   "source": [
    "accuracy_score(model_predicted,test_labels)"
   ]
  }
 ],
 "metadata": {
  "kernelspec": {
   "display_name": "Python 3 (ipykernel)",
   "language": "python",
   "name": "python3"
  },
  "language_info": {
   "codemirror_mode": {
    "name": "ipython",
    "version": 3
   },
   "file_extension": ".py",
   "mimetype": "text/x-python",
   "name": "python",
   "nbconvert_exporter": "python",
   "pygments_lexer": "ipython3",
   "version": "3.9.12"
  }
 },
 "nbformat": 4,
 "nbformat_minor": 5
}
